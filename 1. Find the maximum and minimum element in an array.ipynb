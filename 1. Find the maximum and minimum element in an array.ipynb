{
 "cells": [
  {
   "cell_type": "code",
   "execution_count": 1,
   "id": "878387dd",
   "metadata": {},
   "outputs": [
    {
     "name": "stdout",
     "output_type": "stream",
     "text": [
      "5\n"
     ]
    }
   ],
   "source": [
    "# Method implementation\n",
    "\n",
    "def addMaxMin(arr):\n",
    "    largest = smallest = 0\n",
    "    \n",
    "    for i in range(1,len(arr)):\n",
    "        if arr[i] > largest:\n",
    "            largest = arr[i]\n",
    "            \n",
    "        elif arr[i] < smallest:\n",
    "            smallest = arr[i]\n",
    "            \n",
    "    return largest + smallest \n",
    "\n",
    "# driver code \n",
    "\n",
    "arr = [-1, -4 ,5 ,8 ,9 ,3]\n",
    "result = addMaxMin(arr)\n",
    "print(result)\n",
    "        "
   ]
  },
  {
   "cell_type": "code",
   "execution_count": 5,
   "id": "db8421ce",
   "metadata": {},
   "outputs": [
    {
     "name": "stdout",
     "output_type": "stream",
     "text": [
      "after sorting the array [-4, -1, 3, 5, 8, 9]\n",
      "Sum of max & min element of array :- 5\n"
     ]
    }
   ],
   "source": [
    "arr = [-1, -4 ,5 ,8 ,9 ,3]\n",
    "arr.sort()\n",
    "print(\"after sorting the array\",arr)\n",
    "\n",
    "Max = max(arr)\n",
    "Min = min(arr)\n",
    "Sum = Max + Min\n",
    "print(\"Sum of max & min element of array :-\", Sum)\n",
    "\n",
    "\n",
    "\n"
   ]
  },
  {
   "cell_type": "code",
   "execution_count": 6,
   "id": "74e058da",
   "metadata": {},
   "outputs": [
    {
     "name": "stdout",
     "output_type": "stream",
     "text": [
      "after sorting the array [-4, -1, 3, 5, 8, 9]\n",
      "5\n"
     ]
    }
   ],
   "source": [
    "arr = [-1, -4 ,5 ,8 ,9 ,3]\n",
    "arr.sort()\n",
    "print(\"after sorting the array\",arr)\n",
    "\n",
    "Add = arr[0]+arr[-1]\n",
    "print(\"\",Add)"
   ]
  },
  {
   "cell_type": "code",
   "execution_count": null,
   "id": "084ba6f0",
   "metadata": {},
   "outputs": [],
   "source": []
  }
 ],
 "metadata": {
  "kernelspec": {
   "display_name": "Python 3 (ipykernel)",
   "language": "python",
   "name": "python3"
  },
  "language_info": {
   "codemirror_mode": {
    "name": "ipython",
    "version": 3
   },
   "file_extension": ".py",
   "mimetype": "text/x-python",
   "name": "python",
   "nbconvert_exporter": "python",
   "pygments_lexer": "ipython3",
   "version": "3.11.2"
  }
 },
 "nbformat": 4,
 "nbformat_minor": 5
}
