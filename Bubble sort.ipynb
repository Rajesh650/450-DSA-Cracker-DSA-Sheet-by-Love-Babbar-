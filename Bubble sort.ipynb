{
 "cells": [
  {
   "cell_type": "code",
   "execution_count": 4,
   "id": "914ed33c",
   "metadata": {},
   "outputs": [
    {
     "name": "stdout",
     "output_type": "stream",
     "text": [
      "[5, 7, 10, 35, 40, 76, 80]\n"
     ]
    }
   ],
   "source": [
    "#Method implemention\n",
    "\n",
    "def bubbleSort (arr):\n",
    "    n = len(arr)\n",
    "    for i in range (n):\n",
    "        for j in range (0, n-i-1):\n",
    "            if arr[j]>arr[j+1]:\n",
    "                arr[j],arr[j+1] = arr[j+1],arr[j]\n",
    "    return arr\n",
    "\n",
    "#Driver code\n",
    "\n",
    "arr = [10,5,35,40,7,76,80]\n",
    "result = bubbleSort(arr)\n",
    "print(arr)"
   ]
  },
  {
   "cell_type": "code",
   "execution_count": 5,
   "id": "cafdd7d0",
   "metadata": {},
   "outputs": [
    {
     "name": "stdout",
     "output_type": "stream",
     "text": [
      " sorted array after applying selection sort None\n"
     ]
    }
   ],
   "source": [
    "#selection sort\n",
    "#method implemention\n",
    "def selectionSort(arr):\n",
    "    n = len(arr)\n",
    "    for i in range(n):\n",
    "        min_idx = i\n",
    "        for j in range (i+1,n):\n",
    "            if arr[j]<arr[min_idx]:\n",
    "                min_idx = j\n",
    "                \n",
    "        #swap happened after every pass\n",
    "        \n",
    "        arr[i],arr[min_idx]= arr[min_idx],arr[i]\n",
    "    \n",
    "    \n",
    "#driver code\n",
    "\n",
    "arr =[70,56,23,19,25,37,48]\n",
    "result = selectionSort(arr)\n",
    "print (\" sorted array after applying selection sort\",result)"
   ]
  },
  {
   "cell_type": "code",
   "execution_count": null,
   "id": "3d982086",
   "metadata": {},
   "outputs": [],
   "source": []
  }
 ],
 "metadata": {
  "kernelspec": {
   "display_name": "Python 3 (ipykernel)",
   "language": "python",
   "name": "python3"
  },
  "language_info": {
   "codemirror_mode": {
    "name": "ipython",
    "version": 3
   },
   "file_extension": ".py",
   "mimetype": "text/x-python",
   "name": "python",
   "nbconvert_exporter": "python",
   "pygments_lexer": "ipython3",
   "version": "3.11.2"
  }
 },
 "nbformat": 4,
 "nbformat_minor": 5
}
